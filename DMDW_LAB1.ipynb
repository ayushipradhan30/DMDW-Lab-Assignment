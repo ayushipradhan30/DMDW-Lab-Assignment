{
  "nbformat": 4,
  "nbformat_minor": 0,
  "metadata": {
    "colab": {
      "name": "DMDW_LAB1.ipynb",
      "provenance": [],
      "authorship_tag": "ABX9TyPUBmH/zqxOCaQYjJgCRm/R",
      "include_colab_link": true
    },
    "kernelspec": {
      "name": "python3",
      "display_name": "Python 3"
    }
  },
  "cells": [
    {
      "cell_type": "markdown",
      "metadata": {
        "id": "view-in-github",
        "colab_type": "text"
      },
      "source": [
        "<a href=\"https://colab.research.google.com/github/ayushipradhan30/DMDW-Lab-Assignment/blob/main/DMDW_LAB1.ipynb\" target=\"_parent\"><img src=\"https://colab.research.google.com/assets/colab-badge.svg\" alt=\"Open In Colab\"/></a>"
      ]
    },
    {
      "cell_type": "code",
      "metadata": {
        "id": "7qoyZxEGFoQX",
        "colab": {
          "base_uri": "https://localhost:8080/"
        },
        "outputId": "847e698b-b628-4965-8aa1-b77c3f1a7242"
      },
      "source": [
        "from collections import Counter\n",
        "d=[float(i) for i in input().split()]\n",
        "n=len(d)\n",
        "avg=sum(d)/n\n",
        "print(\"Mean = \",avg)\n",
        "#calculation of median\n",
        "t=d.copy()\n",
        "t=sorted(t)\n",
        "if n%2!=0:\n",
        "  print(\"Median = \",t[n//2])\n",
        "else:\n",
        "  median=(t[n//2]+t[n//2+1])/2\n",
        "  print(\"Median = \",median)\n",
        "#calculation of mode\n",
        "c=Counter(d)\n",
        "m=max(c.items(),key= lambda x:x[1])[1]\n",
        "print(m)\n",
        "mode=[]\n",
        "for each in c.items():\n",
        "  if each[1]==m:\n",
        "    mode.append(each[0])\n",
        "    print(\"each[0] = \",each[0])\n",
        "if len(mode)==n:\n",
        "  print(\"Not found\")\n",
        "else:\n",
        "  print(\"Mode = \",mode)\n",
        "\n"
      ],
      "execution_count": null,
      "outputs": [
        {
          "output_type": "stream",
          "text": [
            "3 6 2 9 7 8 1 5 2 3 6 7\n",
            "Mean =  4.916666666666667\n",
            "Median =  6.0\n",
            "2\n",
            "each[0] =  3.0\n",
            "each[0] =  6.0\n",
            "each[0] =  2.0\n",
            "each[0] =  7.0\n",
            "Mode =  [3.0, 6.0, 2.0, 7.0]\n"
          ],
          "name": "stdout"
        }
      ]
    },
    {
      "cell_type": "code",
      "metadata": {
        "id": "FqBaDzm-HDv4",
        "colab": {
          "base_uri": "https://localhost:8080/"
        },
        "outputId": "3f2fa52d-6d9a-4d11-f536-379ca1087d40"
      },
      "source": [
        "#calculation of variance\n",
        "d=[float(i) for i in input().split()]\n",
        "n=len(d)\n",
        "mean=sum(d)/n\n",
        "sum1=0\n",
        "for e in d:\n",
        "  sum1+=(e-mean)**2\n",
        "var=sum1/n\n",
        "print('Variance= ',var)\n",
        "#calculation of standard deviation\n",
        "std=var**(0.5)\n",
        "print(\"Standard Deviation = \",std)\n",
        "\n"
      ],
      "execution_count": null,
      "outputs": [
        {
          "output_type": "stream",
          "text": [
            "50 34 77 22 80\n",
            "Variance=  527.04\n",
            "Standard Deviation =  22.957351763650788\n"
          ],
          "name": "stdout"
        }
      ]
    },
    {
      "cell_type": "code",
      "metadata": {
        "id": "mcIBHil2H6Z-",
        "colab": {
          "base_uri": "https://localhost:8080/"
        },
        "outputId": "8bd1b651-3ed4-4012-df84-94161a929f89"
      },
      "source": [
        "#program to check a string is pallindrome or not\n",
        "s=input()\n",
        "if (s==s[::-1]):\n",
        "  print('YES')\n",
        "else:\n",
        "  print('NO')"
      ],
      "execution_count": null,
      "outputs": [
        {
          "output_type": "stream",
          "text": [
            "ayushi\n",
            "NO\n"
          ],
          "name": "stdout"
        }
      ]
    },
    {
      "cell_type": "code",
      "metadata": {
        "id": "9ittPasHIBj2",
        "colab": {
          "base_uri": "https://localhost:8080/"
        },
        "outputId": "ce4db200-2bf8-46a4-e09a-3b5869aa2bb5"
      },
      "source": [
        "#program to find nth fibonacci number\n",
        "n=int(input())\n",
        "f=[0]*n\n",
        "f[0]=0;f[1]=1\n",
        "for i in range(2,n):\n",
        "  f[i]=f[i-1]+f[i-2]\n",
        "print(f[n-1])\n",
        "\n"
      ],
      "execution_count": null,
      "outputs": [
        {
          "output_type": "stream",
          "text": [
            "5\n",
            "3\n"
          ],
          "name": "stdout"
        }
      ]
    },
    {
      "cell_type": "code",
      "metadata": {
        "id": "SBhnQcfWIXiO"
      },
      "source": [
        ""
      ],
      "execution_count": null,
      "outputs": []
    }
  ]
}