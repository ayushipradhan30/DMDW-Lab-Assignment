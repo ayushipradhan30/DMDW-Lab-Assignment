{
  "nbformat": 4,
  "nbformat_minor": 0,
  "metadata": {
    "colab": {
      "name": "DMDW_Lab3.ipynb",
      "provenance": [],
      "authorship_tag": "ABX9TyP2OUQq4o/NGsQlIVucRntU",
      "include_colab_link": true
    },
    "kernelspec": {
      "name": "python3",
      "display_name": "Python 3"
    }
  },
  "cells": [
    {
      "cell_type": "markdown",
      "metadata": {
        "id": "view-in-github",
        "colab_type": "text"
      },
      "source": [
        "<a href=\"https://colab.research.google.com/github/ayushipradhan30/DMDW-Lab-Assignment/blob/main/DMDW_Lab3.ipynb\" target=\"_parent\"><img src=\"https://colab.research.google.com/assets/colab-badge.svg\" alt=\"Open In Colab\"/></a>"
      ]
    },
    {
      "cell_type": "code",
      "metadata": {
        "id": "SgIvwLLwGM1x"
      },
      "source": [
        "#import packages\n",
        "import pandas as pd\n",
        "import numpy as np\n",
        "import matplotlib.pyplot as plt\n",
        "import seaborn as sns"
      ],
      "execution_count": 1,
      "outputs": []
    },
    {
      "cell_type": "code",
      "metadata": {
        "colab": {
          "base_uri": "https://localhost:8080/",
          "height": 419
        },
        "id": "dkuK8A0vGwfM",
        "outputId": "f86593e0-d793-433a-9054-e9444bd3f8f7"
      },
      "source": [
        "#fetching and reading the contents of data\n",
        "df=pd.read_csv(r\"https://raw.githubusercontent.com/anshupandey/Machine_Learning_Training/master/datasets/maintenance_data.csv\")\n",
        "df"
      ],
      "execution_count": 2,
      "outputs": [
        {
          "output_type": "execute_result",
          "data": {
            "text/html": [
              "<div>\n",
              "<style scoped>\n",
              "    .dataframe tbody tr th:only-of-type {\n",
              "        vertical-align: middle;\n",
              "    }\n",
              "\n",
              "    .dataframe tbody tr th {\n",
              "        vertical-align: top;\n",
              "    }\n",
              "\n",
              "    .dataframe thead th {\n",
              "        text-align: right;\n",
              "    }\n",
              "</style>\n",
              "<table border=\"1\" class=\"dataframe\">\n",
              "  <thead>\n",
              "    <tr style=\"text-align: right;\">\n",
              "      <th></th>\n",
              "      <th>lifetime</th>\n",
              "      <th>broken</th>\n",
              "      <th>pressureInd</th>\n",
              "      <th>moistureInd</th>\n",
              "      <th>temperatureInd</th>\n",
              "      <th>team</th>\n",
              "      <th>provider</th>\n",
              "    </tr>\n",
              "  </thead>\n",
              "  <tbody>\n",
              "    <tr>\n",
              "      <th>0</th>\n",
              "      <td>56</td>\n",
              "      <td>0</td>\n",
              "      <td>92.178854</td>\n",
              "      <td>104.230204</td>\n",
              "      <td>96.517159</td>\n",
              "      <td>TeamA</td>\n",
              "      <td>Provider4</td>\n",
              "    </tr>\n",
              "    <tr>\n",
              "      <th>1</th>\n",
              "      <td>81</td>\n",
              "      <td>1</td>\n",
              "      <td>72.075938</td>\n",
              "      <td>183.065701</td>\n",
              "      <td>87.271062</td>\n",
              "      <td>TeamC</td>\n",
              "      <td>Provider4</td>\n",
              "    </tr>\n",
              "    <tr>\n",
              "      <th>2</th>\n",
              "      <td>60</td>\n",
              "      <td>0</td>\n",
              "      <td>96.272254</td>\n",
              "      <td>77.801376</td>\n",
              "      <td>112.196170</td>\n",
              "      <td>TeamA</td>\n",
              "      <td>Provider1</td>\n",
              "    </tr>\n",
              "    <tr>\n",
              "      <th>3</th>\n",
              "      <td>86</td>\n",
              "      <td>1</td>\n",
              "      <td>94.406461</td>\n",
              "      <td>178.493608</td>\n",
              "      <td>72.025374</td>\n",
              "      <td>TeamC</td>\n",
              "      <td>Provider2</td>\n",
              "    </tr>\n",
              "    <tr>\n",
              "      <th>4</th>\n",
              "      <td>34</td>\n",
              "      <td>0</td>\n",
              "      <td>97.752899</td>\n",
              "      <td>99.413492</td>\n",
              "      <td>103.756271</td>\n",
              "      <td>TeamB</td>\n",
              "      <td>Provider1</td>\n",
              "    </tr>\n",
              "    <tr>\n",
              "      <th>...</th>\n",
              "      <td>...</td>\n",
              "      <td>...</td>\n",
              "      <td>...</td>\n",
              "      <td>...</td>\n",
              "      <td>...</td>\n",
              "      <td>...</td>\n",
              "      <td>...</td>\n",
              "    </tr>\n",
              "    <tr>\n",
              "      <th>995</th>\n",
              "      <td>88</td>\n",
              "      <td>1</td>\n",
              "      <td>88.589759</td>\n",
              "      <td>112.167556</td>\n",
              "      <td>99.861456</td>\n",
              "      <td>TeamB</td>\n",
              "      <td>Provider4</td>\n",
              "    </tr>\n",
              "    <tr>\n",
              "      <th>996</th>\n",
              "      <td>88</td>\n",
              "      <td>1</td>\n",
              "      <td>116.727075</td>\n",
              "      <td>110.871332</td>\n",
              "      <td>95.075631</td>\n",
              "      <td>TeamA</td>\n",
              "      <td>Provider4</td>\n",
              "    </tr>\n",
              "    <tr>\n",
              "      <th>997</th>\n",
              "      <td>22</td>\n",
              "      <td>0</td>\n",
              "      <td>104.026778</td>\n",
              "      <td>88.212873</td>\n",
              "      <td>83.221220</td>\n",
              "      <td>TeamB</td>\n",
              "      <td>Provider1</td>\n",
              "    </tr>\n",
              "    <tr>\n",
              "      <th>998</th>\n",
              "      <td>78</td>\n",
              "      <td>0</td>\n",
              "      <td>104.911649</td>\n",
              "      <td>104.257296</td>\n",
              "      <td>83.421491</td>\n",
              "      <td>TeamA</td>\n",
              "      <td>Provider4</td>\n",
              "    </tr>\n",
              "    <tr>\n",
              "      <th>999</th>\n",
              "      <td>63</td>\n",
              "      <td>0</td>\n",
              "      <td>116.901354</td>\n",
              "      <td>99.998694</td>\n",
              "      <td>47.641493</td>\n",
              "      <td>TeamB</td>\n",
              "      <td>Provider1</td>\n",
              "    </tr>\n",
              "  </tbody>\n",
              "</table>\n",
              "<p>1000 rows × 7 columns</p>\n",
              "</div>"
            ],
            "text/plain": [
              "     lifetime  broken  pressureInd  ...  temperatureInd   team   provider\n",
              "0          56       0    92.178854  ...       96.517159  TeamA  Provider4\n",
              "1          81       1    72.075938  ...       87.271062  TeamC  Provider4\n",
              "2          60       0    96.272254  ...      112.196170  TeamA  Provider1\n",
              "3          86       1    94.406461  ...       72.025374  TeamC  Provider2\n",
              "4          34       0    97.752899  ...      103.756271  TeamB  Provider1\n",
              "..        ...     ...          ...  ...             ...    ...        ...\n",
              "995        88       1    88.589759  ...       99.861456  TeamB  Provider4\n",
              "996        88       1   116.727075  ...       95.075631  TeamA  Provider4\n",
              "997        22       0   104.026778  ...       83.221220  TeamB  Provider1\n",
              "998        78       0   104.911649  ...       83.421491  TeamA  Provider4\n",
              "999        63       0   116.901354  ...       47.641493  TeamB  Provider1\n",
              "\n",
              "[1000 rows x 7 columns]"
            ]
          },
          "metadata": {
            "tags": []
          },
          "execution_count": 2
        }
      ]
    },
    {
      "cell_type": "code",
      "metadata": {
        "id": "JvxVKfnPG0oB"
      },
      "source": [
        "df.dropna(axis=0,inplace=True)"
      ],
      "execution_count": 3,
      "outputs": []
    },
    {
      "cell_type": "code",
      "metadata": {
        "colab": {
          "base_uri": "https://localhost:8080/"
        },
        "id": "TSAr1ZV_Ix0O",
        "outputId": "013e73ef-f722-4377-c7a8-b6b3cfebfc1c"
      },
      "source": [
        "df.shape"
      ],
      "execution_count": 4,
      "outputs": [
        {
          "output_type": "execute_result",
          "data": {
            "text/plain": [
              "(993, 7)"
            ]
          },
          "metadata": {
            "tags": []
          },
          "execution_count": 4
        }
      ]
    },
    {
      "cell_type": "code",
      "metadata": {
        "colab": {
          "base_uri": "https://localhost:8080/",
          "height": 204
        },
        "id": "eLLaIjYSI3hg",
        "outputId": "bc373a74-b439-42ea-cc95-6a65caa0a8df"
      },
      "source": [
        "df.tail()"
      ],
      "execution_count": 5,
      "outputs": [
        {
          "output_type": "execute_result",
          "data": {
            "text/html": [
              "<div>\n",
              "<style scoped>\n",
              "    .dataframe tbody tr th:only-of-type {\n",
              "        vertical-align: middle;\n",
              "    }\n",
              "\n",
              "    .dataframe tbody tr th {\n",
              "        vertical-align: top;\n",
              "    }\n",
              "\n",
              "    .dataframe thead th {\n",
              "        text-align: right;\n",
              "    }\n",
              "</style>\n",
              "<table border=\"1\" class=\"dataframe\">\n",
              "  <thead>\n",
              "    <tr style=\"text-align: right;\">\n",
              "      <th></th>\n",
              "      <th>lifetime</th>\n",
              "      <th>broken</th>\n",
              "      <th>pressureInd</th>\n",
              "      <th>moistureInd</th>\n",
              "      <th>temperatureInd</th>\n",
              "      <th>team</th>\n",
              "      <th>provider</th>\n",
              "    </tr>\n",
              "  </thead>\n",
              "  <tbody>\n",
              "    <tr>\n",
              "      <th>995</th>\n",
              "      <td>88</td>\n",
              "      <td>1</td>\n",
              "      <td>88.589759</td>\n",
              "      <td>112.167556</td>\n",
              "      <td>99.861456</td>\n",
              "      <td>TeamB</td>\n",
              "      <td>Provider4</td>\n",
              "    </tr>\n",
              "    <tr>\n",
              "      <th>996</th>\n",
              "      <td>88</td>\n",
              "      <td>1</td>\n",
              "      <td>116.727075</td>\n",
              "      <td>110.871332</td>\n",
              "      <td>95.075631</td>\n",
              "      <td>TeamA</td>\n",
              "      <td>Provider4</td>\n",
              "    </tr>\n",
              "    <tr>\n",
              "      <th>997</th>\n",
              "      <td>22</td>\n",
              "      <td>0</td>\n",
              "      <td>104.026778</td>\n",
              "      <td>88.212873</td>\n",
              "      <td>83.221220</td>\n",
              "      <td>TeamB</td>\n",
              "      <td>Provider1</td>\n",
              "    </tr>\n",
              "    <tr>\n",
              "      <th>998</th>\n",
              "      <td>78</td>\n",
              "      <td>0</td>\n",
              "      <td>104.911649</td>\n",
              "      <td>104.257296</td>\n",
              "      <td>83.421491</td>\n",
              "      <td>TeamA</td>\n",
              "      <td>Provider4</td>\n",
              "    </tr>\n",
              "    <tr>\n",
              "      <th>999</th>\n",
              "      <td>63</td>\n",
              "      <td>0</td>\n",
              "      <td>116.901354</td>\n",
              "      <td>99.998694</td>\n",
              "      <td>47.641493</td>\n",
              "      <td>TeamB</td>\n",
              "      <td>Provider1</td>\n",
              "    </tr>\n",
              "  </tbody>\n",
              "</table>\n",
              "</div>"
            ],
            "text/plain": [
              "     lifetime  broken  pressureInd  ...  temperatureInd   team   provider\n",
              "995        88       1    88.589759  ...       99.861456  TeamB  Provider4\n",
              "996        88       1   116.727075  ...       95.075631  TeamA  Provider4\n",
              "997        22       0   104.026778  ...       83.221220  TeamB  Provider1\n",
              "998        78       0   104.911649  ...       83.421491  TeamA  Provider4\n",
              "999        63       0   116.901354  ...       47.641493  TeamB  Provider1\n",
              "\n",
              "[5 rows x 7 columns]"
            ]
          },
          "metadata": {
            "tags": []
          },
          "execution_count": 5
        }
      ]
    },
    {
      "cell_type": "code",
      "metadata": {
        "colab": {
          "base_uri": "https://localhost:8080/"
        },
        "id": "lN9gj4SvI57P",
        "outputId": "38357de1-6ccd-4098-b59c-ebf8e0fe9bb4"
      },
      "source": [
        "df.info()"
      ],
      "execution_count": 6,
      "outputs": [
        {
          "output_type": "stream",
          "text": [
            "<class 'pandas.core.frame.DataFrame'>\n",
            "Int64Index: 993 entries, 0 to 999\n",
            "Data columns (total 7 columns):\n",
            " #   Column          Non-Null Count  Dtype  \n",
            "---  ------          --------------  -----  \n",
            " 0   lifetime        993 non-null    int64  \n",
            " 1   broken          993 non-null    int64  \n",
            " 2   pressureInd     993 non-null    float64\n",
            " 3   moistureInd     993 non-null    float64\n",
            " 4   temperatureInd  993 non-null    float64\n",
            " 5   team            993 non-null    object \n",
            " 6   provider        993 non-null    object \n",
            "dtypes: float64(3), int64(2), object(2)\n",
            "memory usage: 62.1+ KB\n"
          ],
          "name": "stdout"
        }
      ]
    },
    {
      "cell_type": "code",
      "metadata": {
        "colab": {
          "base_uri": "https://localhost:8080/",
          "height": 297
        },
        "id": "ROHBHoISI8na",
        "outputId": "81ef4d06-d4b3-4d08-cc5e-87fc69ff5fc9"
      },
      "source": [
        "df.describe()"
      ],
      "execution_count": 7,
      "outputs": [
        {
          "output_type": "execute_result",
          "data": {
            "text/html": [
              "<div>\n",
              "<style scoped>\n",
              "    .dataframe tbody tr th:only-of-type {\n",
              "        vertical-align: middle;\n",
              "    }\n",
              "\n",
              "    .dataframe tbody tr th {\n",
              "        vertical-align: top;\n",
              "    }\n",
              "\n",
              "    .dataframe thead th {\n",
              "        text-align: right;\n",
              "    }\n",
              "</style>\n",
              "<table border=\"1\" class=\"dataframe\">\n",
              "  <thead>\n",
              "    <tr style=\"text-align: right;\">\n",
              "      <th></th>\n",
              "      <th>lifetime</th>\n",
              "      <th>broken</th>\n",
              "      <th>pressureInd</th>\n",
              "      <th>moistureInd</th>\n",
              "      <th>temperatureInd</th>\n",
              "    </tr>\n",
              "  </thead>\n",
              "  <tbody>\n",
              "    <tr>\n",
              "      <th>count</th>\n",
              "      <td>993.000000</td>\n",
              "      <td>993.000000</td>\n",
              "      <td>993.000000</td>\n",
              "      <td>993.000000</td>\n",
              "      <td>993.000000</td>\n",
              "    </tr>\n",
              "    <tr>\n",
              "      <th>mean</th>\n",
              "      <td>55.131923</td>\n",
              "      <td>0.394763</td>\n",
              "      <td>98.715052</td>\n",
              "      <td>110.960159</td>\n",
              "      <td>100.595028</td>\n",
              "    </tr>\n",
              "    <tr>\n",
              "      <th>std</th>\n",
              "      <td>26.459946</td>\n",
              "      <td>0.489046</td>\n",
              "      <td>19.876328</td>\n",
              "      <td>41.844343</td>\n",
              "      <td>19.615489</td>\n",
              "    </tr>\n",
              "    <tr>\n",
              "      <th>min</th>\n",
              "      <td>1.000000</td>\n",
              "      <td>0.000000</td>\n",
              "      <td>33.481917</td>\n",
              "      <td>70.928815</td>\n",
              "      <td>42.279598</td>\n",
              "    </tr>\n",
              "    <tr>\n",
              "      <th>25%</th>\n",
              "      <td>34.000000</td>\n",
              "      <td>0.000000</td>\n",
              "      <td>85.578027</td>\n",
              "      <td>94.535666</td>\n",
              "      <td>87.678519</td>\n",
              "    </tr>\n",
              "    <tr>\n",
              "      <th>50%</th>\n",
              "      <td>60.000000</td>\n",
              "      <td>0.000000</td>\n",
              "      <td>97.321050</td>\n",
              "      <td>102.839895</td>\n",
              "      <td>100.623052</td>\n",
              "    </tr>\n",
              "    <tr>\n",
              "      <th>75%</th>\n",
              "      <td>80.000000</td>\n",
              "      <td>1.000000</td>\n",
              "      <td>112.256436</td>\n",
              "      <td>113.358822</td>\n",
              "      <td>113.616254</td>\n",
              "    </tr>\n",
              "    <tr>\n",
              "      <th>max</th>\n",
              "      <td>93.000000</td>\n",
              "      <td>1.000000</td>\n",
              "      <td>173.282541</td>\n",
              "      <td>1156.493254</td>\n",
              "      <td>172.544140</td>\n",
              "    </tr>\n",
              "  </tbody>\n",
              "</table>\n",
              "</div>"
            ],
            "text/plain": [
              "         lifetime      broken  pressureInd  moistureInd  temperatureInd\n",
              "count  993.000000  993.000000   993.000000   993.000000      993.000000\n",
              "mean    55.131923    0.394763    98.715052   110.960159      100.595028\n",
              "std     26.459946    0.489046    19.876328    41.844343       19.615489\n",
              "min      1.000000    0.000000    33.481917    70.928815       42.279598\n",
              "25%     34.000000    0.000000    85.578027    94.535666       87.678519\n",
              "50%     60.000000    0.000000    97.321050   102.839895      100.623052\n",
              "75%     80.000000    1.000000   112.256436   113.358822      113.616254\n",
              "max     93.000000    1.000000   173.282541  1156.493254      172.544140"
            ]
          },
          "metadata": {
            "tags": []
          },
          "execution_count": 7
        }
      ]
    },
    {
      "cell_type": "code",
      "metadata": {
        "colab": {
          "base_uri": "https://localhost:8080/"
        },
        "id": "_RZHUpkxJCgn",
        "outputId": "30412670-46ad-4323-d113-73c775d7c9ee"
      },
      "source": [
        "#to check for existence of null values\n",
        "df.isnull().sum()"
      ],
      "execution_count": 8,
      "outputs": [
        {
          "output_type": "execute_result",
          "data": {
            "text/plain": [
              "lifetime          0\n",
              "broken            0\n",
              "pressureInd       0\n",
              "moistureInd       0\n",
              "temperatureInd    0\n",
              "team              0\n",
              "provider          0\n",
              "dtype: int64"
            ]
          },
          "metadata": {
            "tags": []
          },
          "execution_count": 8
        }
      ]
    },
    {
      "cell_type": "code",
      "metadata": {
        "colab": {
          "base_uri": "https://localhost:8080/"
        },
        "id": "q7sNsAJzK6UF",
        "outputId": "651e60e1-a3fa-4c28-dcb6-6197283c5449"
      },
      "source": [
        "#to check whether table contains duplicate values\n",
        "df.duplicated().sum()"
      ],
      "execution_count": 9,
      "outputs": [
        {
          "output_type": "execute_result",
          "data": {
            "text/plain": [
              "0"
            ]
          },
          "metadata": {
            "tags": []
          },
          "execution_count": 9
        }
      ]
    },
    {
      "cell_type": "code",
      "metadata": {
        "colab": {
          "base_uri": "https://localhost:8080/"
        },
        "id": "sseH7ciQLIjO",
        "outputId": "d185a137-b090-4246-c089-b9bb881def67"
      },
      "source": [
        "#check for skewness\n",
        "df.skew()"
      ],
      "execution_count": 10,
      "outputs": [
        {
          "output_type": "execute_result",
          "data": {
            "text/plain": [
              "lifetime          -0.406256\n",
              "broken             0.431244\n",
              "pressureInd        0.116271\n",
              "moistureInd       16.087973\n",
              "temperatureInd    -0.075851\n",
              "dtype: float64"
            ]
          },
          "metadata": {
            "tags": []
          },
          "execution_count": 10
        }
      ]
    },
    {
      "cell_type": "code",
      "metadata": {
        "colab": {
          "base_uri": "https://localhost:8080/",
          "height": 297
        },
        "id": "lqqUBYD2MZbd",
        "outputId": "45d85673-2861-4be0-af5c-6732061300eb"
      },
      "source": [
        "# Finding and removing out the highest value among all which is making a greater difference in percentile of the data\n",
        "df=df[df.moistureInd<=df.moistureInd.quantile(0.999)]\n",
        "df.shape\n",
        "df.moistureInd.quantile(0.999)\n",
        "df.describe()"
      ],
      "execution_count": 11,
      "outputs": [
        {
          "output_type": "execute_result",
          "data": {
            "text/html": [
              "<div>\n",
              "<style scoped>\n",
              "    .dataframe tbody tr th:only-of-type {\n",
              "        vertical-align: middle;\n",
              "    }\n",
              "\n",
              "    .dataframe tbody tr th {\n",
              "        vertical-align: top;\n",
              "    }\n",
              "\n",
              "    .dataframe thead th {\n",
              "        text-align: right;\n",
              "    }\n",
              "</style>\n",
              "<table border=\"1\" class=\"dataframe\">\n",
              "  <thead>\n",
              "    <tr style=\"text-align: right;\">\n",
              "      <th></th>\n",
              "      <th>lifetime</th>\n",
              "      <th>broken</th>\n",
              "      <th>pressureInd</th>\n",
              "      <th>moistureInd</th>\n",
              "      <th>temperatureInd</th>\n",
              "    </tr>\n",
              "  </thead>\n",
              "  <tbody>\n",
              "    <tr>\n",
              "      <th>count</th>\n",
              "      <td>992.000000</td>\n",
              "      <td>992.000000</td>\n",
              "      <td>992.000000</td>\n",
              "      <td>992.000000</td>\n",
              "      <td>992.000000</td>\n",
              "    </tr>\n",
              "    <tr>\n",
              "      <th>mean</th>\n",
              "      <td>55.106855</td>\n",
              "      <td>0.394153</td>\n",
              "      <td>98.717683</td>\n",
              "      <td>109.906194</td>\n",
              "      <td>100.598508</td>\n",
              "    </tr>\n",
              "    <tr>\n",
              "      <th>std</th>\n",
              "      <td>26.461492</td>\n",
              "      <td>0.488915</td>\n",
              "      <td>19.886181</td>\n",
              "      <td>25.466387</td>\n",
              "      <td>19.625077</td>\n",
              "    </tr>\n",
              "    <tr>\n",
              "      <th>min</th>\n",
              "      <td>1.000000</td>\n",
              "      <td>0.000000</td>\n",
              "      <td>33.481917</td>\n",
              "      <td>70.928815</td>\n",
              "      <td>42.279598</td>\n",
              "    </tr>\n",
              "    <tr>\n",
              "      <th>25%</th>\n",
              "      <td>34.000000</td>\n",
              "      <td>0.000000</td>\n",
              "      <td>85.574091</td>\n",
              "      <td>94.532547</td>\n",
              "      <td>87.676913</td>\n",
              "    </tr>\n",
              "    <tr>\n",
              "      <th>50%</th>\n",
              "      <td>60.000000</td>\n",
              "      <td>0.000000</td>\n",
              "      <td>97.411438</td>\n",
              "      <td>102.837957</td>\n",
              "      <td>100.670087</td>\n",
              "    </tr>\n",
              "    <tr>\n",
              "      <th>75%</th>\n",
              "      <td>80.000000</td>\n",
              "      <td>1.000000</td>\n",
              "      <td>112.293159</td>\n",
              "      <td>113.308537</td>\n",
              "      <td>113.662885</td>\n",
              "    </tr>\n",
              "    <tr>\n",
              "      <th>max</th>\n",
              "      <td>93.000000</td>\n",
              "      <td>1.000000</td>\n",
              "      <td>173.282541</td>\n",
              "      <td>199.138717</td>\n",
              "      <td>172.544140</td>\n",
              "    </tr>\n",
              "  </tbody>\n",
              "</table>\n",
              "</div>"
            ],
            "text/plain": [
              "         lifetime      broken  pressureInd  moistureInd  temperatureInd\n",
              "count  992.000000  992.000000   992.000000   992.000000      992.000000\n",
              "mean    55.106855    0.394153    98.717683   109.906194      100.598508\n",
              "std     26.461492    0.488915    19.886181    25.466387       19.625077\n",
              "min      1.000000    0.000000    33.481917    70.928815       42.279598\n",
              "25%     34.000000    0.000000    85.574091    94.532547       87.676913\n",
              "50%     60.000000    0.000000    97.411438   102.837957      100.670087\n",
              "75%     80.000000    1.000000   112.293159   113.308537      113.662885\n",
              "max     93.000000    1.000000   173.282541   199.138717      172.544140"
            ]
          },
          "metadata": {
            "tags": []
          },
          "execution_count": 11
        }
      ]
    },
    {
      "cell_type": "code",
      "metadata": {
        "colab": {
          "base_uri": "https://localhost:8080/"
        },
        "id": "S6nf2MhxMbi1",
        "outputId": "5765b65b-89ed-4d10-f738-e0080513a31f"
      },
      "source": [
        "# since skewness is less than -0.1 therefore we will use mean to fill the null values\n",
        "df.fillna(df.temperatureInd.mean(),inplace=True)"
      ],
      "execution_count": 12,
      "outputs": [
        {
          "output_type": "stream",
          "text": [
            "/usr/local/lib/python3.6/dist-packages/pandas/core/frame.py:4327: SettingWithCopyWarning: \n",
            "A value is trying to be set on a copy of a slice from a DataFrame\n",
            "\n",
            "See the caveats in the documentation: https://pandas.pydata.org/pandas-docs/stable/user_guide/indexing.html#returning-a-view-versus-a-copy\n",
            "  downcast=downcast,\n"
          ],
          "name": "stderr"
        }
      ]
    },
    {
      "cell_type": "code",
      "metadata": {
        "id": "f9BvG8vRNc7F",
        "colab": {
          "base_uri": "https://localhost:8080/"
        },
        "outputId": "b7e93f72-728e-4e48-b604-f9b654eace4e"
      },
      "source": [
        "# since skewness is more than 0.1 therefore we will use median to fill the null values\n",
        "df.fillna(df.pressureInd.median(),inplace=True)"
      ],
      "execution_count": 13,
      "outputs": [
        {
          "output_type": "stream",
          "text": [
            "/usr/local/lib/python3.6/dist-packages/pandas/core/frame.py:4327: SettingWithCopyWarning: \n",
            "A value is trying to be set on a copy of a slice from a DataFrame\n",
            "\n",
            "See the caveats in the documentation: https://pandas.pydata.org/pandas-docs/stable/user_guide/indexing.html#returning-a-view-versus-a-copy\n",
            "  downcast=downcast,\n"
          ],
          "name": "stderr"
        }
      ]
    },
    {
      "cell_type": "code",
      "metadata": {
        "colab": {
          "base_uri": "https://localhost:8080/"
        },
        "id": "ZwXyaDyF57xB",
        "outputId": "a82fdc34-9215-4082-9f57-5c15e7c1266d"
      },
      "source": [
        "# checking again for null value\n",
        "df.isnull().sum()"
      ],
      "execution_count": 14,
      "outputs": [
        {
          "output_type": "execute_result",
          "data": {
            "text/plain": [
              "lifetime          0\n",
              "broken            0\n",
              "pressureInd       0\n",
              "moistureInd       0\n",
              "temperatureInd    0\n",
              "team              0\n",
              "provider          0\n",
              "dtype: int64"
            ]
          },
          "metadata": {
            "tags": []
          },
          "execution_count": 14
        }
      ]
    },
    {
      "cell_type": "code",
      "metadata": {
        "id": "bQioU9OC6jEz"
      },
      "source": [
        ""
      ],
      "execution_count": null,
      "outputs": []
    }
  ]
}